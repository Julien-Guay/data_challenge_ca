{
 "cells": [
  {
   "cell_type": "code",
   "execution_count": 6,
   "metadata": {},
   "outputs": [],
   "source": [
    "# Importer les bibliothèques nécessaires\n",
    "import pandas as pd\n",
    "pd.set_option('display.max_columns', 375)\n",
    "import numpy as np\n",
    "from category_encoders import CountEncoder\n",
    "from sklearn.metrics import mean_squared_error\n",
    "from sklearn.ensemble import RandomForestRegressor, GradientBoostingRegressor"
   ]
  },
  {
   "cell_type": "code",
   "execution_count": 3,
   "metadata": {},
   "outputs": [
    {
     "name": "stdout",
     "output_type": "stream",
     "text": [
      "Chargement des données...\n"
     ]
    },
    {
     "name": "stderr",
     "output_type": "stream",
     "text": [
      "/tmp/ipykernel_17790/2952621689.py:3: DtypeWarning: Columns (16,17,29,30,31,126,128,129,132,133,135,138,371) have mixed types. Specify dtype option on import or set low_memory=False.\n",
      "  X_train = pd.read_csv('~/data/train_input_Z61KlZo.csv')\n"
     ]
    },
    {
     "name": "stdout",
     "output_type": "stream",
     "text": [
      "Données chargées avec succès.\n"
     ]
    }
   ],
   "source": [
    "# Charger les données\n",
    "print(\"Chargement des données...\")\n",
    "X_train = pd.read_csv('~/data/train_input_Z61KlZo.csv') \n",
    "y_train = pd.read_csv('~/data/train_output_DzPxaPY.csv')\n",
    "# X_test = pd.read_csv(\"test_input.csv\")\n",
    "print(\"Données chargées avec succès.\")"
   ]
  },
  {
   "cell_type": "code",
   "execution_count": 4,
   "metadata": {},
   "outputs": [
    {
     "name": "stdout",
     "output_type": "stream",
     "text": [
      "Traitement des valeurs manquantes dans les colonnes numériques...\n",
      "Traitement des valeurs manquantes terminé.\n"
     ]
    }
   ],
   "source": [
    "# Traitement des valeurs manquantes dans les colonnes numériques\n",
    "print(\"Traitement des valeurs manquantes dans les colonnes numériques...\")\n",
    "numeric_columns = X_train.select_dtypes(include=['number']).columns\n",
    "\n",
    "# Remplir les NaN avec 0 pour les colonnes numériques\n",
    "X_train[numeric_columns] = X_train[numeric_columns].fillna(0)\n",
    "\n",
    "# Identifier les colonnes non numériques\n",
    "fill_cols = [item for item in X_train.columns if item not in numeric_columns]\n",
    "\n",
    "# Remplir les NaN des colonnes non numériques avec une valeur par défaut (-999)\n",
    "X_train[fill_cols] = X_train[fill_cols].fillna(-999)\n",
    "\n",
    "print(\"Traitement des valeurs manquantes terminé.\")"
   ]
  },
  {
   "cell_type": "code",
   "execution_count": 8,
   "metadata": {},
   "outputs": [
    {
     "name": "stdout",
     "output_type": "stream",
     "text": [
      "Préparation des données pour l'entraînement...\n",
      "Préparation terminée.\n"
     ]
    }
   ],
   "source": [
    "# Préparation des données pour l'entraînement\n",
    "print(\"Préparation des données pour l'entraînement...\")\n",
    "\n",
    "# Suppression des colonnes inutiles\n",
    "X_train = X_train.drop(['ID', 'ANNEE_ASSURANCE'], axis=1)\n",
    "\n",
    "# Encodage des variables catégoriques avec CountEncoder\n",
    "encoder = CountEncoder(cols=fill_cols)\n",
    "encoder.fit(X_train)\n",
    "X_train_enc = encoder.transform(X_train)\n",
    "\n",
    "print(\"Préparation terminée.\")"
   ]
  },
  {
   "cell_type": "code",
   "execution_count": null,
   "metadata": {},
   "outputs": [
    {
     "name": "stdout",
     "output_type": "stream",
     "text": [
      "Entraînement des modèles\n"
     ]
    }
   ],
   "source": [
    "# Entraîner les modèles\n",
    "print(\"Entraînement des modèles\")\n",
    "\n",
    "# Modèle pour prédire 'FREQ'\n",
    "rf_freq = RandomForestRegressor(random_state=42)\n",
    "rf_freq.fit(X_train_enc, y_train['FREQ'])\n",
    "print(\"Modèle pour 'FREQ' entraîné avec succès.\")\n"
   ]
  },
  {
   "cell_type": "code",
   "execution_count": 7,
   "metadata": {},
   "outputs": [],
   "source": [
    "# Prédire 'FREQ' sur l'ensemble d'entraînement\n",
    "y_train_pred_freq = rf_freq.predict(X_train_enc)"
   ]
  },
  {
   "cell_type": "code",
   "execution_count": 8,
   "metadata": {},
   "outputs": [
    {
     "name": "stdout",
     "output_type": "stream",
     "text": [
      "Modèle pour 'CM' entraîné avec succès.\n"
     ]
    }
   ],
   "source": [
    "# Modèle pour prédire 'CM'\n",
    "gb_cm = GradientBoostingRegressor(random_state=42)\n",
    "gb_cm.fit(X_train_enc, y_train['CM'])\n",
    "print(\"Modèle pour 'CM' entraîné avec succès.\")"
   ]
  },
  {
   "cell_type": "code",
   "execution_count": 9,
   "metadata": {},
   "outputs": [],
   "source": [
    "# Prédire 'CM' sur l'ensemble d'entraînement\n",
    "y_train_pred_cm = gb_cm.predict(X_train_enc)"
   ]
  },
  {
   "cell_type": "code",
   "execution_count": 10,
   "metadata": {},
   "outputs": [],
   "source": [
    "# Calculer la prédiction combinée pour 'CHARGE'\n",
    "y_train_pred = y_train_pred_freq * y_train_pred_cm * y_train['ANNEE_ASSURANCE']"
   ]
  },
  {
   "cell_type": "code",
   "execution_count": 11,
   "metadata": {},
   "outputs": [
    {
     "name": "stdout",
     "output_type": "stream",
     "text": [
      "RMSE sur l'ensemble d'entraînement : 6613.76\n"
     ]
    }
   ],
   "source": [
    "# Calculer le RMSE sur l'ensemble d'entraînement\n",
    "rmse = np.sqrt(mean_squared_error(y_train['CHARGE'], y_train_pred))\n",
    "print(f\"RMSE sur l'ensemble d'entraînement : {rmse:.2f}\")"
   ]
  },
  {
   "cell_type": "code",
   "execution_count": 12,
   "metadata": {},
   "outputs": [
    {
     "name": "stdout",
     "output_type": "stream",
     "text": [
      "Traitement des données de test...\n",
      "Traitement des données de test terminé.\n"
     ]
    }
   ],
   "source": [
    "# Traitement des données de test\n",
    "print(\"Traitement des données de test...\")\n",
    "\n",
    "# Remplir les valeurs manquantes\n",
    "X_test[numeric_columns] = X_test[numeric_columns].fillna(0)\n",
    "X_test[fill_cols] = X_test[fill_cols].fillna(-999)\n",
    "\n",
    "# Suppression des colonnes inutiles\n",
    "X_test_model = X_test.drop(['ID', 'ANNEE_ASSURANCE'], axis=1)\n",
    "\n",
    "# Transformation des données de test avec le même encoder\n",
    "X_test_enc = encoder.transform(X_test_model)\n",
    "\n",
    "print(\"Traitement des données de test terminé.\")"
   ]
  },
  {
   "cell_type": "code",
   "execution_count": 13,
   "metadata": {},
   "outputs": [
    {
     "name": "stdout",
     "output_type": "stream",
     "text": [
      "Prédictions sur l'ensemble de test...\n"
     ]
    }
   ],
   "source": [
    "# Prédictions sur l'ensemble de test\n",
    "print(\"Prédictions sur l'ensemble de test...\")\n",
    "\n",
    "# Prédire 'FREQ' et 'CM' sur les données de test\n",
    "y_pred_freq = rf_freq.predict(X_test_enc)\n",
    "y_pred_cm = gb_cm.predict(X_test_enc)"
   ]
  },
  {
   "cell_type": "code",
   "execution_count": 14,
   "metadata": {},
   "outputs": [],
   "source": [
    "# Combiner les prédictions\n",
    "y_pred = pd.concat([\n",
    "    X_test[['ID', 'ANNEE_ASSURANCE']].reset_index(drop=True),\n",
    "    pd.DataFrame(y_pred_freq, columns=['FREQ']),\n",
    "    pd.DataFrame(y_pred_cm, columns=['CM'])\n",
    "], axis=1)"
   ]
  },
  {
   "cell_type": "code",
   "execution_count": 15,
   "metadata": {},
   "outputs": [
    {
     "name": "stdout",
     "output_type": "stream",
     "text": [
      "Prédictions terminées.\n"
     ]
    }
   ],
   "source": [
    "# Calculer la colonne 'CHARGE' en multipliant 'FREQ', 'CM' et 'ANNEE_ASSURANCE'\n",
    "y_pred['CHARGE'] = y_pred['CM'] * y_pred['FREQ'] * y_pred['ANNEE_ASSURANCE']\n",
    "\n",
    "print(\"Prédictions terminées.\")"
   ]
  },
  {
   "cell_type": "code",
   "execution_count": 16,
   "metadata": {},
   "outputs": [
    {
     "name": "stdout",
     "output_type": "stream",
     "text": [
      "Exportation des résultats...\n",
      "Fichier de soumission créé : 'submission.csv'\n"
     ]
    }
   ],
   "source": [
    "# Exporter les prédictions dans un fichier CSV\n",
    "print(\"Exportation des résultats...\")\n",
    "y_pred.to_csv('submission.csv', index=False)\n",
    "print(\"Fichier de soumission créé : 'submission.csv'\")"
   ]
  }
 ],
 "metadata": {
  "kernelspec": {
   "display_name": "base",
   "language": "python",
   "name": "python3"
  },
  "language_info": {
   "codemirror_mode": {
    "name": "ipython",
    "version": 3
   },
   "file_extension": ".py",
   "mimetype": "text/x-python",
   "name": "python",
   "nbconvert_exporter": "python",
   "pygments_lexer": "ipython3",
   "version": "3.12.7"
  }
 },
 "nbformat": 4,
 "nbformat_minor": 2
}
